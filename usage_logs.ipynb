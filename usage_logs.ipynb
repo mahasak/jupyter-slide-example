{
 "cells": [
  {
   "cell_type": "markdown",
   "metadata": {
    "slideshow": {
     "slide_type": "slide"
    }
   },
   "source": [
    "# System Usage\n",
    "\n",
    "\n",
    "This document is to investigate user interaction behaviour to planning for futre resource allocation and performance \n",
    "monitoring to our system.\n",
    "\n",
    "---\n",
    "\n",
    "### @Tansinee T."
   ]
  },
  {
   "cell_type": "code",
   "execution_count": 12,
   "metadata": {
    "collapsed": true,
    "slideshow": {
     "slide_type": "skip"
    }
   },
   "outputs": [],
   "source": [
    "import pandas as pd\n",
    "import numpy as np\n",
    "\n",
    "from bokeh.io import output_notebook\n",
    "from bokeh.plotting import figure, show\n",
    "from bokeh.models import ColumnDataSource"
   ]
  },
  {
   "cell_type": "code",
   "execution_count": 13,
   "metadata": {
    "slideshow": {
     "slide_type": "subslide"
    }
   },
   "outputs": [
    {
     "data": {
      "text/html": [
       "\n",
       "    <div class=\"bk-root\">\n",
       "        <a href=\"https://bokeh.pydata.org\" target=\"_blank\" class=\"bk-logo bk-logo-small bk-logo-notebook\"></a>\n",
       "        <span id=\"2df71809-d174-4242-bc1a-e37e5cd457e6\">Loading BokehJS ...</span>\n",
       "    </div>"
      ]
     },
     "metadata": {},
     "output_type": "display_data"
    },
    {
     "data": {
      "application/javascript": [
       "\n",
       "(function(root) {\n",
       "  function now() {\n",
       "    return new Date();\n",
       "  }\n",
       "\n",
       "  var force = true;\n",
       "\n",
       "  if (typeof (root._bokeh_onload_callbacks) === \"undefined\" || force === true) {\n",
       "    root._bokeh_onload_callbacks = [];\n",
       "    root._bokeh_is_loading = undefined;\n",
       "  }\n",
       "\n",
       "  var JS_MIME_TYPE = 'application/javascript';\n",
       "  var HTML_MIME_TYPE = 'text/html';\n",
       "  var EXEC_MIME_TYPE = 'application/vnd.bokehjs_exec.v0+json';\n",
       "  var CLASS_NAME = 'output_bokeh rendered_html';\n",
       "\n",
       "  /**\n",
       "   * Render data to the DOM node\n",
       "   */\n",
       "  function render(props, node) {\n",
       "    var script = document.createElement(\"script\");\n",
       "    node.appendChild(script);\n",
       "  }\n",
       "\n",
       "  /**\n",
       "   * Handle when an output is cleared or removed\n",
       "   */\n",
       "  function handleClearOutput(event, handle) {\n",
       "    var cell = handle.cell;\n",
       "\n",
       "    var id = cell.output_area._bokeh_element_id;\n",
       "    var server_id = cell.output_area._bokeh_server_id;\n",
       "    // Clean up Bokeh references\n",
       "    if (id !== undefined) {\n",
       "      Bokeh.index[id].model.document.clear();\n",
       "      delete Bokeh.index[id];\n",
       "    }\n",
       "\n",
       "    if (server_id !== undefined) {\n",
       "      // Clean up Bokeh references\n",
       "      var cmd = \"from bokeh.io.state import curstate; print(curstate().uuid_to_server['\" + server_id + \"'].get_sessions()[0].document.roots[0]._id)\";\n",
       "      cell.notebook.kernel.execute(cmd, {\n",
       "        iopub: {\n",
       "          output: function(msg) {\n",
       "            var element_id = msg.content.text.trim();\n",
       "            Bokeh.index[element_id].model.document.clear();\n",
       "            delete Bokeh.index[element_id];\n",
       "          }\n",
       "        }\n",
       "      });\n",
       "      // Destroy server and session\n",
       "      var cmd = \"import bokeh.io.notebook as ion; ion.destroy_server('\" + server_id + \"')\";\n",
       "      cell.notebook.kernel.execute(cmd);\n",
       "    }\n",
       "  }\n",
       "\n",
       "  /**\n",
       "   * Handle when a new output is added\n",
       "   */\n",
       "  function handleAddOutput(event, handle) {\n",
       "    var output_area = handle.output_area;\n",
       "    var output = handle.output;\n",
       "\n",
       "    // limit handleAddOutput to display_data with EXEC_MIME_TYPE content only\n",
       "    if ((output.output_type != \"display_data\") || (!output.data.hasOwnProperty(EXEC_MIME_TYPE))) {\n",
       "      return\n",
       "    }\n",
       "\n",
       "    var toinsert = output_area.element.find(`.${CLASS_NAME.split(' ')[0]}`);\n",
       "\n",
       "    if (output.metadata[EXEC_MIME_TYPE][\"id\"] !== undefined) {\n",
       "      toinsert[0].firstChild.textContent = output.data[JS_MIME_TYPE];\n",
       "      // store reference to embed id on output_area\n",
       "      output_area._bokeh_element_id = output.metadata[EXEC_MIME_TYPE][\"id\"];\n",
       "    }\n",
       "    if (output.metadata[EXEC_MIME_TYPE][\"server_id\"] !== undefined) {\n",
       "      var bk_div = document.createElement(\"div\");\n",
       "      bk_div.innerHTML = output.data[HTML_MIME_TYPE];\n",
       "      var script_attrs = bk_div.children[0].attributes;\n",
       "      for (var i = 0; i < script_attrs.length; i++) {\n",
       "        toinsert[0].firstChild.setAttribute(script_attrs[i].name, script_attrs[i].value);\n",
       "      }\n",
       "      // store reference to server id on output_area\n",
       "      output_area._bokeh_server_id = output.metadata[EXEC_MIME_TYPE][\"server_id\"];\n",
       "    }\n",
       "  }\n",
       "\n",
       "  function register_renderer(events, OutputArea) {\n",
       "\n",
       "    function append_mime(data, metadata, element) {\n",
       "      // create a DOM node to render to\n",
       "      var toinsert = this.create_output_subarea(\n",
       "        metadata,\n",
       "        CLASS_NAME,\n",
       "        EXEC_MIME_TYPE\n",
       "      );\n",
       "      this.keyboard_manager.register_events(toinsert);\n",
       "      // Render to node\n",
       "      var props = {data: data, metadata: metadata[EXEC_MIME_TYPE]};\n",
       "      render(props, toinsert[0]);\n",
       "      element.append(toinsert);\n",
       "      return toinsert\n",
       "    }\n",
       "\n",
       "    /* Handle when an output is cleared or removed */\n",
       "    events.on('clear_output.CodeCell', handleClearOutput);\n",
       "    events.on('delete.Cell', handleClearOutput);\n",
       "\n",
       "    /* Handle when a new output is added */\n",
       "    events.on('output_added.OutputArea', handleAddOutput);\n",
       "\n",
       "    /**\n",
       "     * Register the mime type and append_mime function with output_area\n",
       "     */\n",
       "    OutputArea.prototype.register_mime_type(EXEC_MIME_TYPE, append_mime, {\n",
       "      /* Is output safe? */\n",
       "      safe: true,\n",
       "      /* Index of renderer in `output_area.display_order` */\n",
       "      index: 0\n",
       "    });\n",
       "  }\n",
       "\n",
       "  // register the mime type if in Jupyter Notebook environment and previously unregistered\n",
       "  if (root.Jupyter !== undefined) {\n",
       "    var events = require('base/js/events');\n",
       "    var OutputArea = require('notebook/js/outputarea').OutputArea;\n",
       "\n",
       "    if (OutputArea.prototype.mime_types().indexOf(EXEC_MIME_TYPE) == -1) {\n",
       "      register_renderer(events, OutputArea);\n",
       "    }\n",
       "  }\n",
       "\n",
       "  \n",
       "  if (typeof (root._bokeh_timeout) === \"undefined\" || force === true) {\n",
       "    root._bokeh_timeout = Date.now() + 5000;\n",
       "    root._bokeh_failed_load = false;\n",
       "  }\n",
       "\n",
       "  var NB_LOAD_WARNING = {'data': {'text/html':\n",
       "     \"<div style='background-color: #fdd'>\\n\"+\n",
       "     \"<p>\\n\"+\n",
       "     \"BokehJS does not appear to have successfully loaded. If loading BokehJS from CDN, this \\n\"+\n",
       "     \"may be due to a slow or bad network connection. Possible fixes:\\n\"+\n",
       "     \"</p>\\n\"+\n",
       "     \"<ul>\\n\"+\n",
       "     \"<li>re-rerun `output_notebook()` to attempt to load from CDN again, or</li>\\n\"+\n",
       "     \"<li>use INLINE resources instead, as so:</li>\\n\"+\n",
       "     \"</ul>\\n\"+\n",
       "     \"<code>\\n\"+\n",
       "     \"from bokeh.resources import INLINE\\n\"+\n",
       "     \"output_notebook(resources=INLINE)\\n\"+\n",
       "     \"</code>\\n\"+\n",
       "     \"</div>\"}};\n",
       "\n",
       "  function display_loaded() {\n",
       "    var el = document.getElementById(\"2df71809-d174-4242-bc1a-e37e5cd457e6\");\n",
       "    if (el != null) {\n",
       "      el.textContent = \"BokehJS is loading...\";\n",
       "    }\n",
       "    if (root.Bokeh !== undefined) {\n",
       "      if (el != null) {\n",
       "        el.textContent = \"BokehJS \" + root.Bokeh.version + \" successfully loaded.\";\n",
       "      }\n",
       "    } else if (Date.now() < root._bokeh_timeout) {\n",
       "      setTimeout(display_loaded, 100)\n",
       "    }\n",
       "  }\n",
       "\n",
       "\n",
       "  function run_callbacks() {\n",
       "    try {\n",
       "      root._bokeh_onload_callbacks.forEach(function(callback) { callback() });\n",
       "    }\n",
       "    finally {\n",
       "      delete root._bokeh_onload_callbacks\n",
       "    }\n",
       "    console.info(\"Bokeh: all callbacks have finished\");\n",
       "  }\n",
       "\n",
       "  function load_libs(js_urls, callback) {\n",
       "    root._bokeh_onload_callbacks.push(callback);\n",
       "    if (root._bokeh_is_loading > 0) {\n",
       "      console.log(\"Bokeh: BokehJS is being loaded, scheduling callback at\", now());\n",
       "      return null;\n",
       "    }\n",
       "    if (js_urls == null || js_urls.length === 0) {\n",
       "      run_callbacks();\n",
       "      return null;\n",
       "    }\n",
       "    console.log(\"Bokeh: BokehJS not loaded, scheduling load and callback at\", now());\n",
       "    root._bokeh_is_loading = js_urls.length;\n",
       "    for (var i = 0; i < js_urls.length; i++) {\n",
       "      var url = js_urls[i];\n",
       "      var s = document.createElement('script');\n",
       "      s.src = url;\n",
       "      s.async = false;\n",
       "      s.onreadystatechange = s.onload = function() {\n",
       "        root._bokeh_is_loading--;\n",
       "        if (root._bokeh_is_loading === 0) {\n",
       "          console.log(\"Bokeh: all BokehJS libraries loaded\");\n",
       "          run_callbacks()\n",
       "        }\n",
       "      };\n",
       "      s.onerror = function() {\n",
       "        console.warn(\"failed to load library \" + url);\n",
       "      };\n",
       "      console.log(\"Bokeh: injecting script tag for BokehJS library: \", url);\n",
       "      document.getElementsByTagName(\"head\")[0].appendChild(s);\n",
       "    }\n",
       "  };var element = document.getElementById(\"2df71809-d174-4242-bc1a-e37e5cd457e6\");\n",
       "  if (element == null) {\n",
       "    console.log(\"Bokeh: ERROR: autoload.js configured with elementid '2df71809-d174-4242-bc1a-e37e5cd457e6' but no matching script tag was found. \")\n",
       "    return false;\n",
       "  }\n",
       "\n",
       "  var js_urls = [\"https://cdn.pydata.org/bokeh/release/bokeh-0.12.10.min.js\", \"https://cdn.pydata.org/bokeh/release/bokeh-widgets-0.12.10.min.js\", \"https://cdn.pydata.org/bokeh/release/bokeh-tables-0.12.10.min.js\", \"https://cdn.pydata.org/bokeh/release/bokeh-gl-0.12.10.min.js\"];\n",
       "\n",
       "  var inline_js = [\n",
       "    function(Bokeh) {\n",
       "      Bokeh.set_log_level(\"info\");\n",
       "    },\n",
       "    \n",
       "    function(Bokeh) {\n",
       "      \n",
       "    },\n",
       "    function(Bokeh) {\n",
       "      console.log(\"Bokeh: injecting CSS: https://cdn.pydata.org/bokeh/release/bokeh-0.12.10.min.css\");\n",
       "      Bokeh.embed.inject_css(\"https://cdn.pydata.org/bokeh/release/bokeh-0.12.10.min.css\");\n",
       "      console.log(\"Bokeh: injecting CSS: https://cdn.pydata.org/bokeh/release/bokeh-widgets-0.12.10.min.css\");\n",
       "      Bokeh.embed.inject_css(\"https://cdn.pydata.org/bokeh/release/bokeh-widgets-0.12.10.min.css\");\n",
       "      console.log(\"Bokeh: injecting CSS: https://cdn.pydata.org/bokeh/release/bokeh-tables-0.12.10.min.css\");\n",
       "      Bokeh.embed.inject_css(\"https://cdn.pydata.org/bokeh/release/bokeh-tables-0.12.10.min.css\");\n",
       "    }\n",
       "  ];\n",
       "\n",
       "  function run_inline_js() {\n",
       "    \n",
       "    if ((root.Bokeh !== undefined) || (force === true)) {\n",
       "      for (var i = 0; i < inline_js.length; i++) {\n",
       "        inline_js[i].call(root, root.Bokeh);\n",
       "      }if (force === true) {\n",
       "        display_loaded();\n",
       "      }} else if (Date.now() < root._bokeh_timeout) {\n",
       "      setTimeout(run_inline_js, 100);\n",
       "    } else if (!root._bokeh_failed_load) {\n",
       "      console.log(\"Bokeh: BokehJS failed to load within specified timeout.\");\n",
       "      root._bokeh_failed_load = true;\n",
       "    } else if (force !== true) {\n",
       "      var cell = $(document.getElementById(\"2df71809-d174-4242-bc1a-e37e5cd457e6\")).parents('.cell').data().cell;\n",
       "      cell.output_area.append_execute_result(NB_LOAD_WARNING)\n",
       "    }\n",
       "\n",
       "  }\n",
       "\n",
       "  if (root._bokeh_is_loading === 0) {\n",
       "    console.log(\"Bokeh: BokehJS loaded, going straight to plotting\");\n",
       "    run_inline_js();\n",
       "  } else {\n",
       "    load_libs(js_urls, function() {\n",
       "      console.log(\"Bokeh: BokehJS plotting callback run at\", now());\n",
       "      run_inline_js();\n",
       "    });\n",
       "  }\n",
       "}(window));"
      ],
      "application/vnd.bokehjs_load.v0+json": "\n(function(root) {\n  function now() {\n    return new Date();\n  }\n\n  var force = true;\n\n  if (typeof (root._bokeh_onload_callbacks) === \"undefined\" || force === true) {\n    root._bokeh_onload_callbacks = [];\n    root._bokeh_is_loading = undefined;\n  }\n\n  \n\n  \n  if (typeof (root._bokeh_timeout) === \"undefined\" || force === true) {\n    root._bokeh_timeout = Date.now() + 5000;\n    root._bokeh_failed_load = false;\n  }\n\n  var NB_LOAD_WARNING = {'data': {'text/html':\n     \"<div style='background-color: #fdd'>\\n\"+\n     \"<p>\\n\"+\n     \"BokehJS does not appear to have successfully loaded. If loading BokehJS from CDN, this \\n\"+\n     \"may be due to a slow or bad network connection. Possible fixes:\\n\"+\n     \"</p>\\n\"+\n     \"<ul>\\n\"+\n     \"<li>re-rerun `output_notebook()` to attempt to load from CDN again, or</li>\\n\"+\n     \"<li>use INLINE resources instead, as so:</li>\\n\"+\n     \"</ul>\\n\"+\n     \"<code>\\n\"+\n     \"from bokeh.resources import INLINE\\n\"+\n     \"output_notebook(resources=INLINE)\\n\"+\n     \"</code>\\n\"+\n     \"</div>\"}};\n\n  function display_loaded() {\n    var el = document.getElementById(\"2df71809-d174-4242-bc1a-e37e5cd457e6\");\n    if (el != null) {\n      el.textContent = \"BokehJS is loading...\";\n    }\n    if (root.Bokeh !== undefined) {\n      if (el != null) {\n        el.textContent = \"BokehJS \" + root.Bokeh.version + \" successfully loaded.\";\n      }\n    } else if (Date.now() < root._bokeh_timeout) {\n      setTimeout(display_loaded, 100)\n    }\n  }\n\n\n  function run_callbacks() {\n    try {\n      root._bokeh_onload_callbacks.forEach(function(callback) { callback() });\n    }\n    finally {\n      delete root._bokeh_onload_callbacks\n    }\n    console.info(\"Bokeh: all callbacks have finished\");\n  }\n\n  function load_libs(js_urls, callback) {\n    root._bokeh_onload_callbacks.push(callback);\n    if (root._bokeh_is_loading > 0) {\n      console.log(\"Bokeh: BokehJS is being loaded, scheduling callback at\", now());\n      return null;\n    }\n    if (js_urls == null || js_urls.length === 0) {\n      run_callbacks();\n      return null;\n    }\n    console.log(\"Bokeh: BokehJS not loaded, scheduling load and callback at\", now());\n    root._bokeh_is_loading = js_urls.length;\n    for (var i = 0; i < js_urls.length; i++) {\n      var url = js_urls[i];\n      var s = document.createElement('script');\n      s.src = url;\n      s.async = false;\n      s.onreadystatechange = s.onload = function() {\n        root._bokeh_is_loading--;\n        if (root._bokeh_is_loading === 0) {\n          console.log(\"Bokeh: all BokehJS libraries loaded\");\n          run_callbacks()\n        }\n      };\n      s.onerror = function() {\n        console.warn(\"failed to load library \" + url);\n      };\n      console.log(\"Bokeh: injecting script tag for BokehJS library: \", url);\n      document.getElementsByTagName(\"head\")[0].appendChild(s);\n    }\n  };var element = document.getElementById(\"2df71809-d174-4242-bc1a-e37e5cd457e6\");\n  if (element == null) {\n    console.log(\"Bokeh: ERROR: autoload.js configured with elementid '2df71809-d174-4242-bc1a-e37e5cd457e6' but no matching script tag was found. \")\n    return false;\n  }\n\n  var js_urls = [\"https://cdn.pydata.org/bokeh/release/bokeh-0.12.10.min.js\", \"https://cdn.pydata.org/bokeh/release/bokeh-widgets-0.12.10.min.js\", \"https://cdn.pydata.org/bokeh/release/bokeh-tables-0.12.10.min.js\", \"https://cdn.pydata.org/bokeh/release/bokeh-gl-0.12.10.min.js\"];\n\n  var inline_js = [\n    function(Bokeh) {\n      Bokeh.set_log_level(\"info\");\n    },\n    \n    function(Bokeh) {\n      \n    },\n    function(Bokeh) {\n      console.log(\"Bokeh: injecting CSS: https://cdn.pydata.org/bokeh/release/bokeh-0.12.10.min.css\");\n      Bokeh.embed.inject_css(\"https://cdn.pydata.org/bokeh/release/bokeh-0.12.10.min.css\");\n      console.log(\"Bokeh: injecting CSS: https://cdn.pydata.org/bokeh/release/bokeh-widgets-0.12.10.min.css\");\n      Bokeh.embed.inject_css(\"https://cdn.pydata.org/bokeh/release/bokeh-widgets-0.12.10.min.css\");\n      console.log(\"Bokeh: injecting CSS: https://cdn.pydata.org/bokeh/release/bokeh-tables-0.12.10.min.css\");\n      Bokeh.embed.inject_css(\"https://cdn.pydata.org/bokeh/release/bokeh-tables-0.12.10.min.css\");\n    }\n  ];\n\n  function run_inline_js() {\n    \n    if ((root.Bokeh !== undefined) || (force === true)) {\n      for (var i = 0; i < inline_js.length; i++) {\n        inline_js[i].call(root, root.Bokeh);\n      }if (force === true) {\n        display_loaded();\n      }} else if (Date.now() < root._bokeh_timeout) {\n      setTimeout(run_inline_js, 100);\n    } else if (!root._bokeh_failed_load) {\n      console.log(\"Bokeh: BokehJS failed to load within specified timeout.\");\n      root._bokeh_failed_load = true;\n    } else if (force !== true) {\n      var cell = $(document.getElementById(\"2df71809-d174-4242-bc1a-e37e5cd457e6\")).parents('.cell').data().cell;\n      cell.output_area.append_execute_result(NB_LOAD_WARNING)\n    }\n\n  }\n\n  if (root._bokeh_is_loading === 0) {\n    console.log(\"Bokeh: BokehJS loaded, going straight to plotting\");\n    run_inline_js();\n  } else {\n    load_libs(js_urls, function() {\n      console.log(\"Bokeh: BokehJS plotting callback run at\", now());\n      run_inline_js();\n    });\n  }\n}(window));"
     },
     "metadata": {},
     "output_type": "display_data"
    }
   ],
   "source": [
    "#Ignore this slide, it for activate bokeh\n",
    "output_notebook()"
   ]
  },
  {
   "cell_type": "markdown",
   "metadata": {
    "slideshow": {
     "slide_type": "slide"
    }
   },
   "source": [
    "# Write usage\n",
    "\n",
    "Let's investigate events that impact contents in the database (write event). Write event is componsed of 2 actions\n",
    " - **content shared**, to create a new content, grow data size of active content DB.\n",
    " - **content removed**, to remove an existing content, the content is moved to archived and size of active content DB becom smaller.\n",
    " \n",
    "We'll focus on data only second-half 2016."
   ]
  },
  {
   "cell_type": "markdown",
   "metadata": {
    "slideshow": {
     "slide_type": "subslide"
    }
   },
   "source": [
    "## Data Exploration"
   ]
  },
  {
   "cell_type": "code",
   "execution_count": 2,
   "metadata": {
    "slideshow": {
     "slide_type": "-"
    }
   },
   "outputs": [
    {
     "data": {
      "text/html": [
       "<div>\n",
       "<style>\n",
       "    .dataframe thead tr:only-child th {\n",
       "        text-align: right;\n",
       "    }\n",
       "\n",
       "    .dataframe thead th {\n",
       "        text-align: left;\n",
       "    }\n",
       "\n",
       "    .dataframe tbody tr th {\n",
       "        vertical-align: top;\n",
       "    }\n",
       "</style>\n",
       "<table border=\"1\" class=\"dataframe\">\n",
       "  <thead>\n",
       "    <tr style=\"text-align: right;\">\n",
       "      <th></th>\n",
       "      <th>timestamp</th>\n",
       "      <th>eventType</th>\n",
       "      <th>contentId</th>\n",
       "      <th>authorPersonId</th>\n",
       "      <th>authorSessionId</th>\n",
       "      <th>authorUserAgent</th>\n",
       "      <th>authorRegion</th>\n",
       "      <th>authorCountry</th>\n",
       "      <th>contentType</th>\n",
       "      <th>url</th>\n",
       "      <th>title</th>\n",
       "      <th>text</th>\n",
       "      <th>lang</th>\n",
       "    </tr>\n",
       "  </thead>\n",
       "  <tbody>\n",
       "    <tr>\n",
       "      <th>0</th>\n",
       "      <td>2016-03-28 19:19:39</td>\n",
       "      <td>CONTENT REMOVED</td>\n",
       "      <td>-6451309518266745024</td>\n",
       "      <td>4340306774493623681</td>\n",
       "      <td>8940341205206233829</td>\n",
       "      <td>NaN</td>\n",
       "      <td>NaN</td>\n",
       "      <td>NaN</td>\n",
       "      <td>HTML</td>\n",
       "      <td>http://www.nytimes.com/2016/03/28/business/dea...</td>\n",
       "      <td>Ethereum, a Virtual Currency, Enables Transact...</td>\n",
       "      <td>All of this work is still very early. The firs...</td>\n",
       "      <td>en</td>\n",
       "    </tr>\n",
       "    <tr>\n",
       "      <th>1</th>\n",
       "      <td>2016-03-28 19:39:48</td>\n",
       "      <td>CONTENT SHARED</td>\n",
       "      <td>-4110354420726924665</td>\n",
       "      <td>4340306774493623681</td>\n",
       "      <td>8940341205206233829</td>\n",
       "      <td>NaN</td>\n",
       "      <td>NaN</td>\n",
       "      <td>NaN</td>\n",
       "      <td>HTML</td>\n",
       "      <td>http://www.nytimes.com/2016/03/28/business/dea...</td>\n",
       "      <td>Ethereum, a Virtual Currency, Enables Transact...</td>\n",
       "      <td>All of this work is still very early. The firs...</td>\n",
       "      <td>en</td>\n",
       "    </tr>\n",
       "    <tr>\n",
       "      <th>2</th>\n",
       "      <td>2016-03-28 19:42:26</td>\n",
       "      <td>CONTENT SHARED</td>\n",
       "      <td>-7292285110016212249</td>\n",
       "      <td>4340306774493623681</td>\n",
       "      <td>8940341205206233829</td>\n",
       "      <td>NaN</td>\n",
       "      <td>NaN</td>\n",
       "      <td>NaN</td>\n",
       "      <td>HTML</td>\n",
       "      <td>http://cointelegraph.com/news/bitcoin-future-w...</td>\n",
       "      <td>Bitcoin Future: When GBPcoin of Branson Wins O...</td>\n",
       "      <td>The alarm clock wakes me at 8:00 with stream o...</td>\n",
       "      <td>en</td>\n",
       "    </tr>\n",
       "    <tr>\n",
       "      <th>3</th>\n",
       "      <td>2016-03-28 19:47:54</td>\n",
       "      <td>CONTENT SHARED</td>\n",
       "      <td>-6151852268067518688</td>\n",
       "      <td>3891637997717104548</td>\n",
       "      <td>-1457532940883382585</td>\n",
       "      <td>NaN</td>\n",
       "      <td>NaN</td>\n",
       "      <td>NaN</td>\n",
       "      <td>HTML</td>\n",
       "      <td>https://cloudplatform.googleblog.com/2016/03/G...</td>\n",
       "      <td>Google Data Center 360° Tour</td>\n",
       "      <td>We're excited to share the Google Data Center ...</td>\n",
       "      <td>en</td>\n",
       "    </tr>\n",
       "    <tr>\n",
       "      <th>4</th>\n",
       "      <td>2016-03-28 19:48:17</td>\n",
       "      <td>CONTENT SHARED</td>\n",
       "      <td>2448026894306402386</td>\n",
       "      <td>4340306774493623681</td>\n",
       "      <td>8940341205206233829</td>\n",
       "      <td>NaN</td>\n",
       "      <td>NaN</td>\n",
       "      <td>NaN</td>\n",
       "      <td>HTML</td>\n",
       "      <td>https://bitcoinmagazine.com/articles/ibm-wants...</td>\n",
       "      <td>IBM Wants to \"Evolve the Internet\" With Blockc...</td>\n",
       "      <td>The Aite Group projects the blockchain market ...</td>\n",
       "      <td>en</td>\n",
       "    </tr>\n",
       "  </tbody>\n",
       "</table>\n",
       "</div>"
      ],
      "text/plain": [
       "            timestamp        eventType            contentId  \\\n",
       "0 2016-03-28 19:19:39  CONTENT REMOVED -6451309518266745024   \n",
       "1 2016-03-28 19:39:48   CONTENT SHARED -4110354420726924665   \n",
       "2 2016-03-28 19:42:26   CONTENT SHARED -7292285110016212249   \n",
       "3 2016-03-28 19:47:54   CONTENT SHARED -6151852268067518688   \n",
       "4 2016-03-28 19:48:17   CONTENT SHARED  2448026894306402386   \n",
       "\n",
       "        authorPersonId      authorSessionId authorUserAgent authorRegion  \\\n",
       "0  4340306774493623681  8940341205206233829             NaN          NaN   \n",
       "1  4340306774493623681  8940341205206233829             NaN          NaN   \n",
       "2  4340306774493623681  8940341205206233829             NaN          NaN   \n",
       "3  3891637997717104548 -1457532940883382585             NaN          NaN   \n",
       "4  4340306774493623681  8940341205206233829             NaN          NaN   \n",
       "\n",
       "  authorCountry contentType  \\\n",
       "0           NaN        HTML   \n",
       "1           NaN        HTML   \n",
       "2           NaN        HTML   \n",
       "3           NaN        HTML   \n",
       "4           NaN        HTML   \n",
       "\n",
       "                                                 url  \\\n",
       "0  http://www.nytimes.com/2016/03/28/business/dea...   \n",
       "1  http://www.nytimes.com/2016/03/28/business/dea...   \n",
       "2  http://cointelegraph.com/news/bitcoin-future-w...   \n",
       "3  https://cloudplatform.googleblog.com/2016/03/G...   \n",
       "4  https://bitcoinmagazine.com/articles/ibm-wants...   \n",
       "\n",
       "                                               title  \\\n",
       "0  Ethereum, a Virtual Currency, Enables Transact...   \n",
       "1  Ethereum, a Virtual Currency, Enables Transact...   \n",
       "2  Bitcoin Future: When GBPcoin of Branson Wins O...   \n",
       "3                       Google Data Center 360° Tour   \n",
       "4  IBM Wants to \"Evolve the Internet\" With Blockc...   \n",
       "\n",
       "                                                text lang  \n",
       "0  All of this work is still very early. The firs...   en  \n",
       "1  All of this work is still very early. The firs...   en  \n",
       "2  The alarm clock wakes me at 8:00 with stream o...   en  \n",
       "3  We're excited to share the Google Data Center ...   en  \n",
       "4  The Aite Group projects the blockchain market ...   en  "
      ]
     },
     "execution_count": 2,
     "metadata": {},
     "output_type": "execute_result"
    }
   ],
   "source": [
    "write_log = pd.read_csv('data/deskdrop/shared_articles.csv')\n",
    "write_log['timestamp'] = pd.to_datetime(write_log['timestamp'], unit='s')\n",
    "write_log.head()"
   ]
  },
  {
   "cell_type": "code",
   "execution_count": 3,
   "metadata": {
    "slideshow": {
     "slide_type": "skip"
    }
   },
   "outputs": [
    {
     "data": {
      "text/plain": [
       "(Timestamp('2016-03-28 19:19:39'), Timestamp('2017-02-28 18:51:11'))"
      ]
     },
     "execution_count": 3,
     "metadata": {},
     "output_type": "execute_result"
    }
   ],
   "source": [
    "(min(write_log['timestamp']), max(write_log['timestamp']))"
   ]
  },
  {
   "cell_type": "markdown",
   "metadata": {
    "slideshow": {
     "slide_type": "slide"
    }
   },
   "source": [
    "## Data Movement\n",
    "\n",
    "Pressure on content-database"
   ]
  },
  {
   "cell_type": "code",
   "execution_count": 20,
   "metadata": {
    "slideshow": {
     "slide_type": "skip"
    }
   },
   "outputs": [
    {
     "data": {
      "text/html": [
       "<div>\n",
       "<style>\n",
       "    .dataframe thead tr:only-child th {\n",
       "        text-align: right;\n",
       "    }\n",
       "\n",
       "    .dataframe thead th {\n",
       "        text-align: left;\n",
       "    }\n",
       "\n",
       "    .dataframe tbody tr th {\n",
       "        vertical-align: top;\n",
       "    }\n",
       "</style>\n",
       "<table border=\"1\" class=\"dataframe\">\n",
       "  <thead>\n",
       "    <tr style=\"text-align: right;\">\n",
       "      <th></th>\n",
       "      <th>date</th>\n",
       "      <th>eventType</th>\n",
       "      <th>count</th>\n",
       "    </tr>\n",
       "  </thead>\n",
       "  <tbody>\n",
       "    <tr>\n",
       "      <th>0</th>\n",
       "      <td>2016-06-01</td>\n",
       "      <td>CONTENT SHARED</td>\n",
       "      <td>27</td>\n",
       "    </tr>\n",
       "    <tr>\n",
       "      <th>1</th>\n",
       "      <td>2016-06-02</td>\n",
       "      <td>CONTENT REMOVED</td>\n",
       "      <td>-1</td>\n",
       "    </tr>\n",
       "    <tr>\n",
       "      <th>2</th>\n",
       "      <td>2016-06-02</td>\n",
       "      <td>CONTENT SHARED</td>\n",
       "      <td>40</td>\n",
       "    </tr>\n",
       "    <tr>\n",
       "      <th>3</th>\n",
       "      <td>2016-06-03</td>\n",
       "      <td>CONTENT SHARED</td>\n",
       "      <td>23</td>\n",
       "    </tr>\n",
       "    <tr>\n",
       "      <th>4</th>\n",
       "      <td>2016-06-04</td>\n",
       "      <td>CONTENT SHARED</td>\n",
       "      <td>4</td>\n",
       "    </tr>\n",
       "  </tbody>\n",
       "</table>\n",
       "</div>"
      ],
      "text/plain": [
       "         date        eventType  count\n",
       "0  2016-06-01   CONTENT SHARED     27\n",
       "1  2016-06-02  CONTENT REMOVED     -1\n",
       "2  2016-06-02   CONTENT SHARED     40\n",
       "3  2016-06-03   CONTENT SHARED     23\n",
       "4  2016-06-04   CONTENT SHARED      4"
      ]
     },
     "execution_count": 20,
     "metadata": {},
     "output_type": "execute_result"
    }
   ],
   "source": [
    "write_log['date'] = write_log['timestamp'].apply(pd.datetime.date)\n",
    "recent_write_log = write_log.loc[\n",
    "    (write_log['timestamp'] >= '2016-06-01') &\n",
    "    (write_log['timestamp'] < '2017-01-01')\n",
    "]\n",
    "\n",
    "daily_type_count = recent_write_log.groupby(['date', 'eventType'])['timestamp'].count().reset_index()\n",
    "daily_type_count.rename(columns={'timestamp': 'count'}, inplace=True)\n",
    "\n",
    "#Convert count to negative on `Content Remove`\n",
    "daily_type_count['count'] = daily_type_count['count'].where(\n",
    "    daily_type_count['eventType'] == 'CONTENT SHARED', -daily_type_count['count'])\n",
    "\n",
    "daily_type_count.head()"
   ]
  },
  {
   "cell_type": "code",
   "execution_count": 32,
   "metadata": {
    "slideshow": {
     "slide_type": "skip"
    }
   },
   "outputs": [
    {
     "data": {
      "text/html": [
       "<div style=\"display: table;\"><div style=\"display: table-row;\"><div style=\"display: table-cell;\"><b title=\"bokeh.models.renderers.GlyphRenderer\">GlyphRenderer</b>(</div><div style=\"display: table-cell;\">id&nbsp;=&nbsp;'1f5c3566-0776-461d-9d71-950f44e2c96a', <span id=\"b3980824-028f-43bf-a501-391658d1f777\" style=\"cursor: pointer;\">&hellip;)</span></div></div><div class=\"4511a3a5-1b0b-47a4-bc5b-a7b039067cf0\" style=\"display: none;\"><div style=\"display: table-cell;\"></div><div style=\"display: table-cell;\">data_source&nbsp;=&nbsp;ColumnDataSource(id='43cf54fa-b96a-4fed-a8a8-2fee0d37c4fd', ...),</div></div><div class=\"4511a3a5-1b0b-47a4-bc5b-a7b039067cf0\" style=\"display: none;\"><div style=\"display: table-cell;\"></div><div style=\"display: table-cell;\">glyph&nbsp;=&nbsp;VBar(id='94ee514f-35b5-4f85-ae35-f959a3bed8a4', ...),</div></div><div class=\"4511a3a5-1b0b-47a4-bc5b-a7b039067cf0\" style=\"display: none;\"><div style=\"display: table-cell;\"></div><div style=\"display: table-cell;\">hover_glyph&nbsp;=&nbsp;None,</div></div><div class=\"4511a3a5-1b0b-47a4-bc5b-a7b039067cf0\" style=\"display: none;\"><div style=\"display: table-cell;\"></div><div style=\"display: table-cell;\">js_event_callbacks&nbsp;=&nbsp;{},</div></div><div class=\"4511a3a5-1b0b-47a4-bc5b-a7b039067cf0\" style=\"display: none;\"><div style=\"display: table-cell;\"></div><div style=\"display: table-cell;\">js_property_callbacks&nbsp;=&nbsp;{},</div></div><div class=\"4511a3a5-1b0b-47a4-bc5b-a7b039067cf0\" style=\"display: none;\"><div style=\"display: table-cell;\"></div><div style=\"display: table-cell;\">level&nbsp;=&nbsp;'glyph',</div></div><div class=\"4511a3a5-1b0b-47a4-bc5b-a7b039067cf0\" style=\"display: none;\"><div style=\"display: table-cell;\"></div><div style=\"display: table-cell;\">muted&nbsp;=&nbsp;False,</div></div><div class=\"4511a3a5-1b0b-47a4-bc5b-a7b039067cf0\" style=\"display: none;\"><div style=\"display: table-cell;\"></div><div style=\"display: table-cell;\">muted_glyph&nbsp;=&nbsp;None,</div></div><div class=\"4511a3a5-1b0b-47a4-bc5b-a7b039067cf0\" style=\"display: none;\"><div style=\"display: table-cell;\"></div><div style=\"display: table-cell;\">name&nbsp;=&nbsp;None,</div></div><div class=\"4511a3a5-1b0b-47a4-bc5b-a7b039067cf0\" style=\"display: none;\"><div style=\"display: table-cell;\"></div><div style=\"display: table-cell;\">nonselection_glyph&nbsp;=&nbsp;VBar(id='28796e6c-26cb-4a55-b1b9-f042d62b221f', ...),</div></div><div class=\"4511a3a5-1b0b-47a4-bc5b-a7b039067cf0\" style=\"display: none;\"><div style=\"display: table-cell;\"></div><div style=\"display: table-cell;\">selection_glyph&nbsp;=&nbsp;None,</div></div><div class=\"4511a3a5-1b0b-47a4-bc5b-a7b039067cf0\" style=\"display: none;\"><div style=\"display: table-cell;\"></div><div style=\"display: table-cell;\">subscribed_events&nbsp;=&nbsp;[],</div></div><div class=\"4511a3a5-1b0b-47a4-bc5b-a7b039067cf0\" style=\"display: none;\"><div style=\"display: table-cell;\"></div><div style=\"display: table-cell;\">tags&nbsp;=&nbsp;[],</div></div><div class=\"4511a3a5-1b0b-47a4-bc5b-a7b039067cf0\" style=\"display: none;\"><div style=\"display: table-cell;\"></div><div style=\"display: table-cell;\">view&nbsp;=&nbsp;CDSView(id='de1391b3-44b2-4870-8f81-ea34823a871b', ...),</div></div><div class=\"4511a3a5-1b0b-47a4-bc5b-a7b039067cf0\" style=\"display: none;\"><div style=\"display: table-cell;\"></div><div style=\"display: table-cell;\">visible&nbsp;=&nbsp;True,</div></div><div class=\"4511a3a5-1b0b-47a4-bc5b-a7b039067cf0\" style=\"display: none;\"><div style=\"display: table-cell;\"></div><div style=\"display: table-cell;\">x_range_name&nbsp;=&nbsp;'default',</div></div><div class=\"4511a3a5-1b0b-47a4-bc5b-a7b039067cf0\" style=\"display: none;\"><div style=\"display: table-cell;\"></div><div style=\"display: table-cell;\">y_range_name&nbsp;=&nbsp;'default')</div></div></div>\n",
       "<script>\n",
       "(function() {\n",
       "  var expanded = false;\n",
       "  var ellipsis = document.getElementById(\"b3980824-028f-43bf-a501-391658d1f777\");\n",
       "  ellipsis.addEventListener(\"click\", function() {\n",
       "    var rows = document.getElementsByClassName(\"4511a3a5-1b0b-47a4-bc5b-a7b039067cf0\");\n",
       "    for (var i = 0; i < rows.length; i++) {\n",
       "      var el = rows[i];\n",
       "      el.style.display = expanded ? \"none\" : \"table-row\";\n",
       "    }\n",
       "    ellipsis.innerHTML = expanded ? \"&hellip;)\" : \"&lsaquo;&lsaquo;&lsaquo;\";\n",
       "    expanded = !expanded;\n",
       "  });\n",
       "})();\n",
       "</script>\n"
      ],
      "text/plain": [
       "GlyphRenderer(id='1f5c3566-0776-461d-9d71-950f44e2c96a', ...)"
      ]
     },
     "execution_count": 32,
     "metadata": {},
     "output_type": "execute_result"
    }
   ],
   "source": [
    "data_load_figure = figure(plot_width=750, plot_height=400, title='Daily Data Movement', \n",
    "                            x_axis_type='datetime')\n",
    "\n",
    "create_events = ColumnDataSource(daily_type_count[daily_type_count['eventType'] == 'CONTENT SHARED'])\n",
    "data_load_figure.vbar(width=1.0, x='date', top='count', source=create_events,\n",
    "                     color='blue')\n",
    "\n",
    "delete_events = ColumnDataSource(daily_type_count[daily_type_count['eventType'] == 'CONTENT REMOVED'])\n",
    "data_load_figure.vbar(width=1.0, x='date', top='count', source=delete_events,\n",
    "                     color='red')"
   ]
  },
  {
   "cell_type": "code",
   "execution_count": 28,
   "metadata": {
    "slideshow": {
     "slide_type": "-"
    }
   },
   "outputs": [
    {
     "data": {
      "text/html": [
       "\n",
       "<div class=\"bk-root\">\n",
       "    <div class=\"bk-plotdiv\" id=\"b05a5cfa-7343-4103-87cb-6304785933fd\"></div>\n",
       "</div>"
      ]
     },
     "metadata": {},
     "output_type": "display_data"
    },
    {
     "data": {
      "application/javascript": [
       "(function(root) {\n",
       "  function embed_document(root) {\n",
       "    var docs_json = {\"22f6828b-7967-4c4a-8667-9e3ef443e167\":{\"roots\":{\"references\":[{\"attributes\":{\"days\":[1,15]},\"id\":\"691887e5-68c3-4cbb-b938-f60490e126f2\",\"type\":\"DaysTicker\"},{\"attributes\":{\"data_source\":{\"id\":\"4cedd005-2b71-438d-8751-86633283c40b\",\"type\":\"ColumnDataSource\"},\"glyph\":{\"id\":\"19a481a7-2904-4fb2-8917-34ae470952c6\",\"type\":\"VBar\"},\"hover_glyph\":null,\"muted_glyph\":null,\"nonselection_glyph\":{\"id\":\"a1e20f9e-b103-4339-8483-7c59f31662fa\",\"type\":\"VBar\"},\"selection_glyph\":null,\"view\":{\"id\":\"9a498e6e-197d-4d08-b134-858a116b0ac7\",\"type\":\"CDSView\"}},\"id\":\"4dedd01f-4de1-4a4d-a1d6-974033faf6a1\",\"type\":\"GlyphRenderer\"},{\"attributes\":{\"months\":[0,6]},\"id\":\"2e384b60-23c2-4fed-bf3c-d4c6a8db226a\",\"type\":\"MonthsTicker\"},{\"attributes\":{\"fill_color\":{\"value\":\"blue\"},\"line_color\":{\"value\":\"blue\"},\"top\":{\"field\":\"count\"},\"width\":{\"value\":1.0},\"x\":{\"field\":\"date\"}},\"id\":\"19a481a7-2904-4fb2-8917-34ae470952c6\",\"type\":\"VBar\"},{\"attributes\":{},\"id\":\"adb2cd67-d937-4aac-8a26-435d188ab1ad\",\"type\":\"DatetimeTickFormatter\"},{\"attributes\":{\"active_drag\":\"auto\",\"active_inspect\":\"auto\",\"active_scroll\":\"auto\",\"active_tap\":\"auto\",\"tools\":[{\"id\":\"7a799b9e-5779-45f2-827b-1b58e6d45bbd\",\"type\":\"PanTool\"},{\"id\":\"d8a1d52a-1360-4f2f-891f-ad3cf8c45a6d\",\"type\":\"WheelZoomTool\"},{\"id\":\"25c7c603-9246-41dc-8992-a70bb6995912\",\"type\":\"BoxZoomTool\"},{\"id\":\"2d75d7b0-e3bf-4e0a-841a-537d75926ef7\",\"type\":\"SaveTool\"},{\"id\":\"cdd7af1f-3acc-4988-94e6-b22a0188cadc\",\"type\":\"ResetTool\"},{\"id\":\"e844aca4-4bf0-4e5a-b6f8-20d2768ca632\",\"type\":\"HelpTool\"}]},\"id\":\"6ec50c8a-e975-4beb-a8e3-5125a6b96864\",\"type\":\"Toolbar\"},{\"attributes\":{\"months\":[0,1,2,3,4,5,6,7,8,9,10,11]},\"id\":\"cdc2c973-daf1-4c5d-8850-4795cfb6175d\",\"type\":\"MonthsTicker\"},{\"attributes\":{\"num_minor_ticks\":5,\"tickers\":[{\"id\":\"0fa3b28e-a85b-48b6-b023-d6c46c9b08af\",\"type\":\"AdaptiveTicker\"},{\"id\":\"4d790691-d5bf-4f22-80c9-c57d5f9d024b\",\"type\":\"AdaptiveTicker\"},{\"id\":\"972cdb4d-9832-4e2b-a76c-238c1475629c\",\"type\":\"AdaptiveTicker\"},{\"id\":\"d02b7099-5dc8-469d-8efe-ff90beb056db\",\"type\":\"DaysTicker\"},{\"id\":\"55ab77d5-dc43-4526-ae22-ef79c3a5fe03\",\"type\":\"DaysTicker\"},{\"id\":\"94941a7f-21c8-4fd6-aec9-fcd2a13849a2\",\"type\":\"DaysTicker\"},{\"id\":\"691887e5-68c3-4cbb-b938-f60490e126f2\",\"type\":\"DaysTicker\"},{\"id\":\"cdc2c973-daf1-4c5d-8850-4795cfb6175d\",\"type\":\"MonthsTicker\"},{\"id\":\"ad8b0d09-1f2d-4ef8-ba39-fd8ea0b84fcb\",\"type\":\"MonthsTicker\"},{\"id\":\"50cf62d5-b2e6-47da-b681-ae1b5bd22cf9\",\"type\":\"MonthsTicker\"},{\"id\":\"2e384b60-23c2-4fed-bf3c-d4c6a8db226a\",\"type\":\"MonthsTicker\"},{\"id\":\"12cb94f8-48c2-40be-bd39-3b283a6e7e32\",\"type\":\"YearsTicker\"}]},\"id\":\"4795a3b8-6853-4cb0-bb8b-897624c0fee3\",\"type\":\"DatetimeTicker\"},{\"attributes\":{},\"id\":\"12cb94f8-48c2-40be-bd39-3b283a6e7e32\",\"type\":\"YearsTicker\"},{\"attributes\":{},\"id\":\"d8a1d52a-1360-4f2f-891f-ad3cf8c45a6d\",\"type\":\"WheelZoomTool\"},{\"attributes\":{\"fill_alpha\":{\"value\":0.1},\"fill_color\":{\"value\":\"#1f77b4\"},\"line_alpha\":{\"value\":0.1},\"line_color\":{\"value\":\"#1f77b4\"},\"top\":{\"field\":\"count\"},\"width\":{\"value\":1.0},\"x\":{\"field\":\"date\"}},\"id\":\"43e854d4-e869-482a-b6fc-96157d721cb9\",\"type\":\"VBar\"},{\"attributes\":{\"formatter\":{\"id\":\"adb2cd67-d937-4aac-8a26-435d188ab1ad\",\"type\":\"DatetimeTickFormatter\"},\"plot\":{\"id\":\"43bd8aab-9864-4a49-8661-50662fbc9e05\",\"subtype\":\"Figure\",\"type\":\"Plot\"},\"ticker\":{\"id\":\"4795a3b8-6853-4cb0-bb8b-897624c0fee3\",\"type\":\"DatetimeTicker\"}},\"id\":\"93a473c0-831b-44d1-a6ad-801e60f09f6c\",\"type\":\"DatetimeAxis\"},{\"attributes\":{\"days\":[1,8,15,22]},\"id\":\"94941a7f-21c8-4fd6-aec9-fcd2a13849a2\",\"type\":\"DaysTicker\"},{\"attributes\":{\"fill_alpha\":{\"value\":0.1},\"fill_color\":{\"value\":\"#1f77b4\"},\"line_alpha\":{\"value\":0.1},\"line_color\":{\"value\":\"#1f77b4\"},\"top\":{\"field\":\"count\"},\"width\":{\"value\":1.0},\"x\":{\"field\":\"date\"}},\"id\":\"a1e20f9e-b103-4339-8483-7c59f31662fa\",\"type\":\"VBar\"},{\"attributes\":{\"callback\":null,\"column_names\":[\"date\",\"eventType\",\"count\",\"index\"],\"data\":{\"count\":[-1,-2,-1,-1,-2,-2,-1,-2,-1,-1,-1,-1,-1,-1,-1,-1,-1,-1,-1,-1,-1,-1,-1,-1,-1],\"date\":[1464825600000.0,1465257600000.0,1465862400000.0,1466726400000.0,1467072000000.0,1467590400000.0,1467936000000.0,1468195200000.0,1468800000000.0,1469145600000.0,1469664000000.0,1471910400000.0,1472515200000.0,1473120000000.0,1473897600000.0,1473984000000.0,1474848000000.0,1475625600000.0,1476057600000.0,1476835200000.0,1477526400000.0,1478563200000.0,1479686400000.0,1480896000000.0,1481673600000.0],\"eventType\":[\"CONTENT REMOVED\",\"CONTENT REMOVED\",\"CONTENT REMOVED\",\"CONTENT REMOVED\",\"CONTENT REMOVED\",\"CONTENT REMOVED\",\"CONTENT REMOVED\",\"CONTENT REMOVED\",\"CONTENT REMOVED\",\"CONTENT REMOVED\",\"CONTENT REMOVED\",\"CONTENT REMOVED\",\"CONTENT REMOVED\",\"CONTENT REMOVED\",\"CONTENT REMOVED\",\"CONTENT REMOVED\",\"CONTENT REMOVED\",\"CONTENT REMOVED\",\"CONTENT REMOVED\",\"CONTENT REMOVED\",\"CONTENT REMOVED\",\"CONTENT REMOVED\",\"CONTENT REMOVED\",\"CONTENT REMOVED\",\"CONTENT REMOVED\"],\"index\":[1,7,15,26,31,38,43,47,54,59,66,91,99,107,117,119,130,139,143,152,160,172,184,196,205]}},\"id\":\"db6e69bf-844e-4f3b-9bb9-89391708fc67\",\"type\":\"ColumnDataSource\"},{\"attributes\":{\"data_source\":{\"id\":\"db6e69bf-844e-4f3b-9bb9-89391708fc67\",\"type\":\"ColumnDataSource\"},\"glyph\":{\"id\":\"e94b5d86-72d5-467d-8bf0-01915308cd94\",\"type\":\"VBar\"},\"hover_glyph\":null,\"muted_glyph\":null,\"nonselection_glyph\":{\"id\":\"43e854d4-e869-482a-b6fc-96157d721cb9\",\"type\":\"VBar\"},\"selection_glyph\":null,\"view\":{\"id\":\"d7c1a9b2-f1fa-4d7a-bcf7-e74521b9e177\",\"type\":\"CDSView\"}},\"id\":\"20cd665e-fb9c-4f66-983b-41c1cfa36900\",\"type\":\"GlyphRenderer\"},{\"attributes\":{\"plot\":{\"id\":\"43bd8aab-9864-4a49-8661-50662fbc9e05\",\"subtype\":\"Figure\",\"type\":\"Plot\"},\"ticker\":{\"id\":\"4795a3b8-6853-4cb0-bb8b-897624c0fee3\",\"type\":\"DatetimeTicker\"}},\"id\":\"cf972771-6090-4fb1-95a2-763b85c9b22e\",\"type\":\"Grid\"},{\"attributes\":{\"plot\":null,\"text\":\"Daily Data Movement\"},\"id\":\"d3bf75ed-65b7-4a49-ae7a-85da81efb6f6\",\"type\":\"Title\"},{\"attributes\":{\"fill_color\":{\"value\":\"red\"},\"line_color\":{\"value\":\"red\"},\"top\":{\"field\":\"count\"},\"width\":{\"value\":1.0},\"x\":{\"field\":\"date\"}},\"id\":\"e94b5d86-72d5-467d-8bf0-01915308cd94\",\"type\":\"VBar\"},{\"attributes\":{\"callback\":null,\"column_names\":[\"date\",\"eventType\",\"count\",\"index\"],\"data\":{\"count\":[27,40,23,4,6,12,18,14,14,21,10,2,11,14,27,11,13,7,2,20,12,17,13,13,7,7,11,21,15,23,17,1,3,17,16,17,10,21,1,3,15,12,19,26,11,4,8,6,11,8,15,2,4,15,11,13,22,13,6,12,10,14,9,14,1,1,11,5,12,12,10,2,3,12,14,8,17,14,12,11,16,19,14,11,1,1,12,10,6,12,5,2,2,5,7,11,11,7,2,7,14,13,5,10,12,1,1,5,12,13,10,10,2,1,10,14,9,21,10,2,10,9,9,12,7,8,3,3,9,6,1,10,10,14,10,9,1,12,12,14,6,12,1,2,5,10,1,12,5,2,1,6,6,6,2,1,4,5,9,2,2,2,3,5,2,3,2,5,8,7,15,4,1,4,11,10,1,1,2,8,9,5,4,6,1,1,5,8,4,5,2,1,4,4,1],\"date\":[1464739200000.0,1464825600000.0,1464912000000.0,1464998400000.0,1465084800000.0,1465171200000.0,1465257600000.0,1465344000000.0,1465430400000.0,1465516800000.0,1465603200000.0,1465689600000.0,1465776000000.0,1465862400000.0,1465948800000.0,1466035200000.0,1466121600000.0,1466208000000.0,1466294400000.0,1466380800000.0,1466467200000.0,1466553600000.0,1466640000000.0,1466726400000.0,1466812800000.0,1466899200000.0,1466985600000.0,1467072000000.0,1467158400000.0,1467244800000.0,1467331200000.0,1467417600000.0,1467504000000.0,1467590400000.0,1467676800000.0,1467763200000.0,1467849600000.0,1467936000000.0,1468022400000.0,1468108800000.0,1468195200000.0,1468281600000.0,1468368000000.0,1468454400000.0,1468540800000.0,1468627200000.0,1468800000000.0,1468886400000.0,1468972800000.0,1469059200000.0,1469145600000.0,1469232000000.0,1469318400000.0,1469404800000.0,1469491200000.0,1469577600000.0,1469664000000.0,1469750400000.0,1469923200000.0,1470009600000.0,1470096000000.0,1470182400000.0,1470268800000.0,1470355200000.0,1470441600000.0,1470528000000.0,1470614400000.0,1470700800000.0,1470787200000.0,1470873600000.0,1470960000000.0,1471046400000.0,1471132800000.0,1471219200000.0,1471305600000.0,1471392000000.0,1471478400000.0,1471564800000.0,1471737600000.0,1471824000000.0,1471910400000.0,1471996800000.0,1472083200000.0,1472169600000.0,1472256000000.0,1472342400000.0,1472428800000.0,1472515200000.0,1472601600000.0,1472688000000.0,1472774400000.0,1472860800000.0,1472947200000.0,1473033600000.0,1473120000000.0,1473206400000.0,1473292800000.0,1473379200000.0,1473465600000.0,1473552000000.0,1473638400000.0,1473724800000.0,1473811200000.0,1473897600000.0,1473984000000.0,1474070400000.0,1474156800000.0,1474243200000.0,1474329600000.0,1474416000000.0,1474502400000.0,1474588800000.0,1474675200000.0,1474761600000.0,1474848000000.0,1474934400000.0,1475020800000.0,1475107200000.0,1475193600000.0,1475366400000.0,1475452800000.0,1475539200000.0,1475625600000.0,1475712000000.0,1475798400000.0,1476057600000.0,1476144000000.0,1476230400000.0,1476316800000.0,1476403200000.0,1476489600000.0,1476662400000.0,1476748800000.0,1476835200000.0,1476921600000.0,1477008000000.0,1477094400000.0,1477267200000.0,1477353600000.0,1477440000000.0,1477526400000.0,1477612800000.0,1477699200000.0,1477785600000.0,1477872000000.0,1477958400000.0,1478044800000.0,1478131200000.0,1478217600000.0,1478304000000.0,1478476800000.0,1478563200000.0,1478649600000.0,1478736000000.0,1478822400000.0,1478995200000.0,1479081600000.0,1479168000000.0,1479254400000.0,1479340800000.0,1479427200000.0,1479600000000.0,1479686400000.0,1479772800000.0,1479859200000.0,1479945600000.0,1480032000000.0,1480291200000.0,1480377600000.0,1480464000000.0,1480550400000.0,1480636800000.0,1480809600000.0,1480896000000.0,1480982400000.0,1481068800000.0,1481155200000.0,1481241600000.0,1481414400000.0,1481500800000.0,1481587200000.0,1481673600000.0,1481760000000.0,1481846400000.0,1481932800000.0,1482019200000.0,1482105600000.0,1482192000000.0,1482278400000.0,1482364800000.0,1482710400000.0,1482796800000.0,1482883200000.0,1482969600000.0,1483056000000.0],\"eventType\":[\"CONTENT SHARED\",\"CONTENT SHARED\",\"CONTENT SHARED\",\"CONTENT SHARED\",\"CONTENT SHARED\",\"CONTENT SHARED\",\"CONTENT SHARED\",\"CONTENT SHARED\",\"CONTENT SHARED\",\"CONTENT SHARED\",\"CONTENT SHARED\",\"CONTENT SHARED\",\"CONTENT SHARED\",\"CONTENT SHARED\",\"CONTENT SHARED\",\"CONTENT SHARED\",\"CONTENT SHARED\",\"CONTENT SHARED\",\"CONTENT SHARED\",\"CONTENT SHARED\",\"CONTENT SHARED\",\"CONTENT SHARED\",\"CONTENT SHARED\",\"CONTENT SHARED\",\"CONTENT SHARED\",\"CONTENT SHARED\",\"CONTENT SHARED\",\"CONTENT SHARED\",\"CONTENT SHARED\",\"CONTENT SHARED\",\"CONTENT SHARED\",\"CONTENT SHARED\",\"CONTENT SHARED\",\"CONTENT SHARED\",\"CONTENT SHARED\",\"CONTENT SHARED\",\"CONTENT SHARED\",\"CONTENT SHARED\",\"CONTENT SHARED\",\"CONTENT SHARED\",\"CONTENT SHARED\",\"CONTENT SHARED\",\"CONTENT SHARED\",\"CONTENT SHARED\",\"CONTENT SHARED\",\"CONTENT SHARED\",\"CONTENT SHARED\",\"CONTENT SHARED\",\"CONTENT SHARED\",\"CONTENT SHARED\",\"CONTENT SHARED\",\"CONTENT SHARED\",\"CONTENT SHARED\",\"CONTENT SHARED\",\"CONTENT SHARED\",\"CONTENT SHARED\",\"CONTENT SHARED\",\"CONTENT SHARED\",\"CONTENT SHARED\",\"CONTENT SHARED\",\"CONTENT SHARED\",\"CONTENT SHARED\",\"CONTENT SHARED\",\"CONTENT SHARED\",\"CONTENT SHARED\",\"CONTENT SHARED\",\"CONTENT SHARED\",\"CONTENT SHARED\",\"CONTENT SHARED\",\"CONTENT SHARED\",\"CONTENT SHARED\",\"CONTENT SHARED\",\"CONTENT SHARED\",\"CONTENT SHARED\",\"CONTENT SHARED\",\"CONTENT SHARED\",\"CONTENT SHARED\",\"CONTENT SHARED\",\"CONTENT SHARED\",\"CONTENT SHARED\",\"CONTENT SHARED\",\"CONTENT SHARED\",\"CONTENT SHARED\",\"CONTENT SHARED\",\"CONTENT SHARED\",\"CONTENT SHARED\",\"CONTENT SHARED\",\"CONTENT SHARED\",\"CONTENT SHARED\",\"CONTENT SHARED\",\"CONTENT SHARED\",\"CONTENT SHARED\",\"CONTENT SHARED\",\"CONTENT SHARED\",\"CONTENT SHARED\",\"CONTENT SHARED\",\"CONTENT SHARED\",\"CONTENT SHARED\",\"CONTENT SHARED\",\"CONTENT SHARED\",\"CONTENT SHARED\",\"CONTENT SHARED\",\"CONTENT SHARED\",\"CONTENT SHARED\",\"CONTENT SHARED\",\"CONTENT SHARED\",\"CONTENT SHARED\",\"CONTENT SHARED\",\"CONTENT SHARED\",\"CONTENT SHARED\",\"CONTENT SHARED\",\"CONTENT SHARED\",\"CONTENT SHARED\",\"CONTENT SHARED\",\"CONTENT SHARED\",\"CONTENT SHARED\",\"CONTENT SHARED\",\"CONTENT SHARED\",\"CONTENT SHARED\",\"CONTENT SHARED\",\"CONTENT SHARED\",\"CONTENT SHARED\",\"CONTENT SHARED\",\"CONTENT SHARED\",\"CONTENT SHARED\",\"CONTENT SHARED\",\"CONTENT SHARED\",\"CONTENT SHARED\",\"CONTENT SHARED\",\"CONTENT SHARED\",\"CONTENT SHARED\",\"CONTENT SHARED\",\"CONTENT SHARED\",\"CONTENT SHARED\",\"CONTENT SHARED\",\"CONTENT SHARED\",\"CONTENT SHARED\",\"CONTENT SHARED\",\"CONTENT SHARED\",\"CONTENT SHARED\",\"CONTENT SHARED\",\"CONTENT SHARED\",\"CONTENT SHARED\",\"CONTENT SHARED\",\"CONTENT SHARED\",\"CONTENT SHARED\",\"CONTENT SHARED\",\"CONTENT SHARED\",\"CONTENT SHARED\",\"CONTENT SHARED\",\"CONTENT SHARED\",\"CONTENT SHARED\",\"CONTENT SHARED\",\"CONTENT SHARED\",\"CONTENT SHARED\",\"CONTENT SHARED\",\"CONTENT SHARED\",\"CONTENT SHARED\",\"CONTENT SHARED\",\"CONTENT SHARED\",\"CONTENT SHARED\",\"CONTENT SHARED\",\"CONTENT SHARED\",\"CONTENT SHARED\",\"CONTENT SHARED\",\"CONTENT SHARED\",\"CONTENT SHARED\",\"CONTENT SHARED\",\"CONTENT SHARED\",\"CONTENT SHARED\",\"CONTENT SHARED\",\"CONTENT SHARED\",\"CONTENT SHARED\",\"CONTENT SHARED\",\"CONTENT SHARED\",\"CONTENT SHARED\",\"CONTENT SHARED\",\"CONTENT SHARED\",\"CONTENT SHARED\",\"CONTENT SHARED\",\"CONTENT SHARED\",\"CONTENT SHARED\",\"CONTENT SHARED\",\"CONTENT SHARED\",\"CONTENT SHARED\",\"CONTENT SHARED\",\"CONTENT SHARED\",\"CONTENT SHARED\",\"CONTENT SHARED\",\"CONTENT SHARED\",\"CONTENT SHARED\",\"CONTENT SHARED\",\"CONTENT SHARED\",\"CONTENT SHARED\",\"CONTENT SHARED\"],\"index\":[0,2,3,4,5,6,8,9,10,11,12,13,14,16,17,18,19,20,21,22,23,24,25,27,28,29,30,32,33,34,35,36,37,39,40,41,42,44,45,46,48,49,50,51,52,53,55,56,57,58,60,61,62,63,64,65,67,68,69,70,71,72,73,74,75,76,77,78,79,80,81,82,83,84,85,86,87,88,89,90,92,93,94,95,96,97,98,100,101,102,103,104,105,106,108,109,110,111,112,113,114,115,116,118,120,121,122,123,124,125,126,127,128,129,131,132,133,134,135,136,137,138,140,141,142,144,145,146,147,148,149,150,151,153,154,155,156,157,158,159,161,162,163,164,165,166,167,168,169,170,171,173,174,175,176,177,178,179,180,181,182,183,185,186,187,188,189,190,191,192,193,194,195,197,198,199,200,201,202,203,204,206,207,208,209,210,211,212,213,214,215,216,217,218,219]}},\"id\":\"4cedd005-2b71-438d-8751-86633283c40b\",\"type\":\"ColumnDataSource\"},{\"attributes\":{\"source\":{\"id\":\"db6e69bf-844e-4f3b-9bb9-89391708fc67\",\"type\":\"ColumnDataSource\"}},\"id\":\"d7c1a9b2-f1fa-4d7a-bcf7-e74521b9e177\",\"type\":\"CDSView\"},{\"attributes\":{\"overlay\":{\"id\":\"b0936710-e448-4c84-9cd9-c83e75d361f9\",\"type\":\"BoxAnnotation\"}},\"id\":\"25c7c603-9246-41dc-8992-a70bb6995912\",\"type\":\"BoxZoomTool\"},{\"attributes\":{},\"id\":\"2d75d7b0-e3bf-4e0a-841a-537d75926ef7\",\"type\":\"SaveTool\"},{\"attributes\":{\"base\":24,\"mantissas\":[1,2,4,6,8,12],\"max_interval\":43200000.0,\"min_interval\":3600000.0,\"num_minor_ticks\":0},\"id\":\"972cdb4d-9832-4e2b-a76c-238c1475629c\",\"type\":\"AdaptiveTicker\"},{\"attributes\":{\"source\":{\"id\":\"4cedd005-2b71-438d-8751-86633283c40b\",\"type\":\"ColumnDataSource\"}},\"id\":\"9a498e6e-197d-4d08-b134-858a116b0ac7\",\"type\":\"CDSView\"},{\"attributes\":{\"dimension\":1,\"plot\":{\"id\":\"43bd8aab-9864-4a49-8661-50662fbc9e05\",\"subtype\":\"Figure\",\"type\":\"Plot\"},\"ticker\":{\"id\":\"63577aa0-c105-400a-bcd0-28113edb5c31\",\"type\":\"BasicTicker\"}},\"id\":\"0e29a9c7-1ce2-413d-9037-2065ad4df7ed\",\"type\":\"Grid\"},{\"attributes\":{},\"id\":\"1ab6c551-516f-4371-ab90-d68423da6bff\",\"type\":\"BasicTickFormatter\"},{\"attributes\":{\"below\":[{\"id\":\"93a473c0-831b-44d1-a6ad-801e60f09f6c\",\"type\":\"DatetimeAxis\"}],\"left\":[{\"id\":\"1053246b-f29b-4507-99ff-fadecaf1bf8a\",\"type\":\"LinearAxis\"}],\"plot_height\":450,\"plot_width\":800,\"renderers\":[{\"id\":\"93a473c0-831b-44d1-a6ad-801e60f09f6c\",\"type\":\"DatetimeAxis\"},{\"id\":\"cf972771-6090-4fb1-95a2-763b85c9b22e\",\"type\":\"Grid\"},{\"id\":\"1053246b-f29b-4507-99ff-fadecaf1bf8a\",\"type\":\"LinearAxis\"},{\"id\":\"0e29a9c7-1ce2-413d-9037-2065ad4df7ed\",\"type\":\"Grid\"},{\"id\":\"b0936710-e448-4c84-9cd9-c83e75d361f9\",\"type\":\"BoxAnnotation\"},{\"id\":\"4dedd01f-4de1-4a4d-a1d6-974033faf6a1\",\"type\":\"GlyphRenderer\"},{\"id\":\"20cd665e-fb9c-4f66-983b-41c1cfa36900\",\"type\":\"GlyphRenderer\"}],\"title\":{\"id\":\"d3bf75ed-65b7-4a49-ae7a-85da81efb6f6\",\"type\":\"Title\"},\"toolbar\":{\"id\":\"6ec50c8a-e975-4beb-a8e3-5125a6b96864\",\"type\":\"Toolbar\"},\"x_range\":{\"id\":\"6d80a9ad-dd34-41a9-845f-703e8575ee70\",\"type\":\"DataRange1d\"},\"x_scale\":{\"id\":\"2f4ff194-4ea8-4f7e-a28f-7d5016c8cc13\",\"type\":\"LinearScale\"},\"y_range\":{\"id\":\"ad8b50e5-e82f-4fe4-9ad5-319974b79051\",\"type\":\"DataRange1d\"},\"y_scale\":{\"id\":\"15751560-8e96-4e2b-955e-c558351b324a\",\"type\":\"LinearScale\"}},\"id\":\"43bd8aab-9864-4a49-8661-50662fbc9e05\",\"subtype\":\"Figure\",\"type\":\"Plot\"},{\"attributes\":{},\"id\":\"e844aca4-4bf0-4e5a-b6f8-20d2768ca632\",\"type\":\"HelpTool\"},{\"attributes\":{\"callback\":null},\"id\":\"6d80a9ad-dd34-41a9-845f-703e8575ee70\",\"type\":\"DataRange1d\"},{\"attributes\":{\"callback\":null},\"id\":\"ad8b50e5-e82f-4fe4-9ad5-319974b79051\",\"type\":\"DataRange1d\"},{\"attributes\":{\"mantissas\":[1,2,5],\"max_interval\":500.0,\"num_minor_ticks\":0},\"id\":\"0fa3b28e-a85b-48b6-b023-d6c46c9b08af\",\"type\":\"AdaptiveTicker\"},{\"attributes\":{},\"id\":\"cdd7af1f-3acc-4988-94e6-b22a0188cadc\",\"type\":\"ResetTool\"},{\"attributes\":{},\"id\":\"63577aa0-c105-400a-bcd0-28113edb5c31\",\"type\":\"BasicTicker\"},{\"attributes\":{\"months\":[0,2,4,6,8,10]},\"id\":\"ad8b0d09-1f2d-4ef8-ba39-fd8ea0b84fcb\",\"type\":\"MonthsTicker\"},{\"attributes\":{\"formatter\":{\"id\":\"1ab6c551-516f-4371-ab90-d68423da6bff\",\"type\":\"BasicTickFormatter\"},\"plot\":{\"id\":\"43bd8aab-9864-4a49-8661-50662fbc9e05\",\"subtype\":\"Figure\",\"type\":\"Plot\"},\"ticker\":{\"id\":\"63577aa0-c105-400a-bcd0-28113edb5c31\",\"type\":\"BasicTicker\"}},\"id\":\"1053246b-f29b-4507-99ff-fadecaf1bf8a\",\"type\":\"LinearAxis\"},{\"attributes\":{\"months\":[0,4,8]},\"id\":\"50cf62d5-b2e6-47da-b681-ae1b5bd22cf9\",\"type\":\"MonthsTicker\"},{\"attributes\":{},\"id\":\"2f4ff194-4ea8-4f7e-a28f-7d5016c8cc13\",\"type\":\"LinearScale\"},{\"attributes\":{\"base\":60,\"mantissas\":[1,2,5,10,15,20,30],\"max_interval\":1800000.0,\"min_interval\":1000.0,\"num_minor_ticks\":0},\"id\":\"4d790691-d5bf-4f22-80c9-c57d5f9d024b\",\"type\":\"AdaptiveTicker\"},{\"attributes\":{\"bottom_units\":\"screen\",\"fill_alpha\":{\"value\":0.5},\"fill_color\":{\"value\":\"lightgrey\"},\"left_units\":\"screen\",\"level\":\"overlay\",\"line_alpha\":{\"value\":1.0},\"line_color\":{\"value\":\"black\"},\"line_dash\":[4,4],\"line_width\":{\"value\":2},\"plot\":null,\"render_mode\":\"css\",\"right_units\":\"screen\",\"top_units\":\"screen\"},\"id\":\"b0936710-e448-4c84-9cd9-c83e75d361f9\",\"type\":\"BoxAnnotation\"},{\"attributes\":{\"days\":[1,4,7,10,13,16,19,22,25,28]},\"id\":\"55ab77d5-dc43-4526-ae22-ef79c3a5fe03\",\"type\":\"DaysTicker\"},{\"attributes\":{},\"id\":\"15751560-8e96-4e2b-955e-c558351b324a\",\"type\":\"LinearScale\"},{\"attributes\":{\"days\":[1,2,3,4,5,6,7,8,9,10,11,12,13,14,15,16,17,18,19,20,21,22,23,24,25,26,27,28,29,30,31]},\"id\":\"d02b7099-5dc8-469d-8efe-ff90beb056db\",\"type\":\"DaysTicker\"},{\"attributes\":{},\"id\":\"7a799b9e-5779-45f2-827b-1b58e6d45bbd\",\"type\":\"PanTool\"}],\"root_ids\":[\"43bd8aab-9864-4a49-8661-50662fbc9e05\"]},\"title\":\"Bokeh Application\",\"version\":\"0.12.10\"}};\n",
       "    var render_items = [{\"docid\":\"22f6828b-7967-4c4a-8667-9e3ef443e167\",\"elementid\":\"b05a5cfa-7343-4103-87cb-6304785933fd\",\"modelid\":\"43bd8aab-9864-4a49-8661-50662fbc9e05\"}];\n",
       "\n",
       "    root.Bokeh.embed.embed_items(docs_json, render_items);\n",
       "  }\n",
       "\n",
       "  if (root.Bokeh !== undefined) {\n",
       "    embed_document(root);\n",
       "  } else {\n",
       "    var attempts = 0;\n",
       "    var timer = setInterval(function(root) {\n",
       "      if (root.Bokeh !== undefined) {\n",
       "        embed_document(root);\n",
       "        clearInterval(timer);\n",
       "      }\n",
       "      attempts++;\n",
       "      if (attempts > 100) {\n",
       "        console.log(\"Bokeh: ERROR: Unable to embed document because BokehJS library is missing\")\n",
       "        clearInterval(timer);\n",
       "      }\n",
       "    }, 10, root)\n",
       "  }\n",
       "})(window);"
      ],
      "application/vnd.bokehjs_exec.v0+json": ""
     },
     "metadata": {
      "application/vnd.bokehjs_exec.v0+json": {
       "id": "43bd8aab-9864-4a49-8661-50662fbc9e05"
      }
     },
     "output_type": "display_data"
    }
   ],
   "source": [
    "show(data_load_figure)"
   ]
  },
  {
   "cell_type": "markdown",
   "metadata": {
    "slideshow": {
     "slide_type": "subslide"
    }
   },
   "source": [
    "## Descriptive Statistic on Data Movement"
   ]
  },
  {
   "cell_type": "code",
   "execution_count": 29,
   "metadata": {
    "collapsed": true,
    "slideshow": {
     "slide_type": "skip"
    }
   },
   "outputs": [],
   "source": [
    "create_content = daily_type_count[daily_type_count['eventType'] == 'CONTENT SHARED']"
   ]
  },
  {
   "cell_type": "markdown",
   "metadata": {
    "slideshow": {
     "slide_type": "-"
    }
   },
   "source": [
    "Daily **average** content share "
   ]
  },
  {
   "cell_type": "code",
   "execution_count": 30,
   "metadata": {
    "slideshow": {
     "slide_type": "-"
    }
   },
   "outputs": [
    {
     "data": {
      "text/plain": [
       "8.846153846153847"
      ]
     },
     "execution_count": 30,
     "metadata": {},
     "output_type": "execute_result"
    }
   ],
   "source": [
    "create_content['count'].mean()"
   ]
  },
  {
   "cell_type": "markdown",
   "metadata": {
    "slideshow": {
     "slide_type": "-"
    }
   },
   "source": [
    "Daily **max** content share"
   ]
  },
  {
   "cell_type": "code",
   "execution_count": 31,
   "metadata": {
    "slideshow": {
     "slide_type": "-"
    }
   },
   "outputs": [
    {
     "data": {
      "text/plain": [
       "40"
      ]
     },
     "execution_count": 31,
     "metadata": {},
     "output_type": "execute_result"
    }
   ],
   "source": [
    "create_content['count'].max()"
   ]
  },
  {
   "cell_type": "code",
   "execution_count": null,
   "metadata": {
    "collapsed": true
   },
   "outputs": [],
   "source": []
  }
 ],
 "metadata": {
  "celltoolbar": "Slideshow",
  "kernelspec": {
   "display_name": "Python 3",
   "language": "python",
   "name": "python3"
  },
  "language_info": {
   "codemirror_mode": {
    "name": "ipython",
    "version": 3
   },
   "file_extension": ".py",
   "mimetype": "text/x-python",
   "name": "python",
   "nbconvert_exporter": "python",
   "pygments_lexer": "ipython3",
   "version": "3.6.3"
  }
 },
 "nbformat": 4,
 "nbformat_minor": 2
}
